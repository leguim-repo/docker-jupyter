{
 "cells": [
  {
   "cell_type": "code",
   "execution_count": null,
   "id": "moral-outline",
   "metadata": {},
   "outputs": [],
   "source": [
    "import pandas as pd\n",
    "\n",
    "df = pd.read_excel('sample/xlsx/fakegenerator/people-aroundtheworld.xlsx', engine='xlrd')  \n",
    "print(df.info())\n",
    "df.head()\n",
    "print(df)\n",
    "subset = df[[\"Age\", \"Occupation\", \"Vehicle\"]]\n",
    "subset.head()\n",
    "print(subset)\n",
    "age_above_35 = df[df[\"Age\"] > 35]\n",
    "age_above_35.head()"
   ]
  },
  {
   "cell_type": "code",
   "execution_count": null,
   "id": "equal-journalism",
   "metadata": {},
   "outputs": [],
   "source": []
  }
 ],
 "metadata": {
  "kernelspec": {
   "display_name": "Python 3",
   "language": "python",
   "name": "python3"
  },
  "language_info": {
   "codemirror_mode": {
    "name": "ipython",
    "version": 3
   },
   "file_extension": ".py",
   "mimetype": "text/x-python",
   "name": "python",
   "nbconvert_exporter": "python",
   "pygments_lexer": "ipython3",
   "version": "3.8.6"
  }
 },
 "nbformat": 4,
 "nbformat_minor": 5
}

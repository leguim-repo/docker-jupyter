{
 "cells": [
  {
   "cell_type": "code",
   "execution_count": null,
   "id": "jewish-definition",
   "metadata": {},
   "outputs": [],
   "source": [
    "import pandas as pd\n",
    "import sqlite3\n",
    "\n",
    "db = sqlite3.connect(\"sample/sqlite3/chinook.db\")\n",
    "cursor = db.cursor()\n",
    "cursor.execute(\"SELECT name FROM sqlite_master WHERE type='table';\")\n",
    "\n",
    "tables = cursor.fetchall()\n",
    "print(tables)\n",
    "\n",
    "for table_name in tables:\n",
    "    print('\\nTable: ',table_name)\n",
    "    table_name = table_name[0]\n",
    "    table = cursor.execute(\"SELECT * from %s\" % table_name)\n",
    "    #print(cursor.fetchall())\n",
    "    df = pd.read_sql_query(\"SELECT * from %s\" % table_name, db)\n",
    "    #pd.set_option('display.max_rows', 500)\n",
    "    #pd.set_option('display.max_columns', 500)\n",
    "    #pd.set_option('display.width', 1000)\n",
    "\n",
    "    pd.set_option('display.expand_frame_repr', False)\n",
    "\n",
    "    print(df)\n",
    "    \n",
    "cursor.close()\n",
    "db.close()"
   ]
  },
  {
   "cell_type": "code",
   "execution_count": null,
   "id": "great-concert",
   "metadata": {},
   "outputs": [],
   "source": []
  }
 ],
 "metadata": {
  "kernelspec": {
   "display_name": "Python 3",
   "language": "python",
   "name": "python3"
  },
  "language_info": {
   "codemirror_mode": {
    "name": "ipython",
    "version": 3
   },
   "file_extension": ".py",
   "mimetype": "text/x-python",
   "name": "python",
   "nbconvert_exporter": "python",
   "pygments_lexer": "ipython3",
   "version": "3.8.6"
  }
 },
 "nbformat": 4,
 "nbformat_minor": 5
}

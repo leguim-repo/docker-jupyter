{
 "cells": [
  {
   "cell_type": "code",
   "execution_count": 1,
   "id": "enormous-consultancy",
   "metadata": {},
   "outputs": [
    {
     "name": "stdout",
     "output_type": "stream",
     "text": [
      "<class 'pandas.core.frame.DataFrame'>\n",
      "RangeIndex: 1000 entries, 0 to 999\n",
      "Data columns (total 13 columns):\n",
      " #   Column             Non-Null Count  Dtype         \n",
      "---  ------             --------------  -----         \n",
      " 0   registration_dttm  1000 non-null   datetime64[ns]\n",
      " 1   id                 1000 non-null   int32         \n",
      " 2   first_name         1000 non-null   object        \n",
      " 3   last_name          1000 non-null   object        \n",
      " 4   email              1000 non-null   object        \n",
      " 5   gender             1000 non-null   object        \n",
      " 6   ip_address         1000 non-null   object        \n",
      " 7   cc                 1000 non-null   object        \n",
      " 8   country            1000 non-null   object        \n",
      " 9   birthdate          1000 non-null   object        \n",
      " 10  salary             932 non-null    float64       \n",
      " 11  title              1000 non-null   object        \n",
      " 12  comments           995 non-null    object        \n",
      "dtypes: datetime64[ns](1), float64(1), int32(1), object(10)\n",
      "memory usage: 97.8+ KB\n",
      "None\n",
      "      registration_dttm    id first_name  last_name  \\\n",
      "0   2016-02-04 15:28:05     1     Howard     Morgan   \n",
      "1   2016-02-04 10:28:40     2    Jessica    Schmidt   \n",
      "2   2016-02-04 18:01:36     3    Beverly     Flores   \n",
      "3   2016-02-04 08:51:14     4    Marilyn    Sanchez   \n",
      "4   2016-02-04 06:33:08     5     Janice   Mitchell   \n",
      "..                  ...   ...        ...        ...   \n",
      "995 2016-02-04 10:07:04   996      Debra       Dunn   \n",
      "996 2016-02-04 00:54:02   997    William  Patterson   \n",
      "997 2016-02-04 22:20:51   998    William     Butler   \n",
      "998 2016-02-04 19:51:02   999     Janice      Brown   \n",
      "999 2016-02-04 03:30:50  1000       Joan        Lee   \n",
      "\n",
      "                         email  gender       ip_address                   cc  \\\n",
      "0         hmorgan0@typepad.com           158.178.195.62                        \n",
      "1         jschmidt1@google.com  Female   168.118.247.35     3565285464047941   \n",
      "2       bflores2@wikipedia.org  Female     51.97.88.173                        \n",
      "3          msanchez3@intel.com  Female  186.206.142.162                        \n",
      "4       jmitchell4@sina.com.cn  Female  205.187.116.241  5610719759939376962   \n",
      "..                         ...     ...              ...                  ...   \n",
      "995      ddunnrn@wikimedia.org  Female   180.218.110.23     3556697294628677   \n",
      "996  wpattersonro@omniture.com    Male  149.242.140.255     3528460022712031   \n",
      "997      wbutlerrp@myspace.com    Male  140.112.119.108     3570737562882432   \n",
      "998            jbrownrq@nhs.uk  Female    118.22.23.123     3536686776100326   \n",
      "999           jleerr@goo.ne.jp  Female    19.248.181.16     4026483689186336   \n",
      "\n",
      "        country   birthdate     salary                    title  \\\n",
      "0      Colombia   12/2/1992        NaN          Data Coordiator   \n",
      "1    Luxembourg   4/14/1995  222396.46           Research Nurse   \n",
      "2        Sweden   2/15/1965  141112.80                  Actuary   \n",
      "3         China    8/6/1969   87914.29      Structural Engineer   \n",
      "4        Poland    7/4/1995  269297.40  Systems Administrator I   \n",
      "..          ...         ...        ...                      ...   \n",
      "995       China  11/13/1968   97843.86              Geologist I   \n",
      "996    Colombia    3/1/2000  108955.05      Executive Secretary   \n",
      "997      Brazil  10/16/1984  109096.71             Programmer I   \n",
      "998      Brazil    7/8/1961  247882.00  Systems Administrator I   \n",
      "999    Tanzania    5/1/1997   92061.30         Internal Auditor   \n",
      "\n",
      "                                              comments  \n",
      "0                                                       \n",
      "1                                                  nil  \n",
      "2                                                       \n",
      "3                                                       \n",
      "4                                                       \n",
      "..                                                 ...  \n",
      "995  ˙ɐnbᴉlɐ ɐuƃɐɯ ǝɹolop ʇǝ ǝɹoqɐl ʇn ʇunpᴉpᴉɔuᴉ ɹ...  \n",
      "996                                  ✋🏿 💪🏿 👐🏿 🙌🏿 👏🏿 🙏🏿  \n",
      "997                                                     \n",
      "998                                                     \n",
      "999                                                     \n",
      "\n",
      "[1000 rows x 13 columns]\n"
     ]
    }
   ],
   "source": [
    "import pyarrow.parquet as pq\n",
    "\n",
    "df = pq.read_table(source='sample/parquet/userdata4.parquet').to_pandas()\n",
    "print(df.info())\n",
    "print(df)\n",
    "\n"
   ]
  },
  {
   "cell_type": "code",
   "execution_count": null,
   "id": "incident-instruction",
   "metadata": {},
   "outputs": [],
   "source": []
  }
 ],
 "metadata": {
  "kernelspec": {
   "display_name": "Python 3",
   "language": "python",
   "name": "python3"
  },
  "language_info": {
   "codemirror_mode": {
    "name": "ipython",
    "version": 3
   },
   "file_extension": ".py",
   "mimetype": "text/x-python",
   "name": "python",
   "nbconvert_exporter": "python",
   "pygments_lexer": "ipython3",
   "version": "3.8.6"
  }
 },
 "nbformat": 4,
 "nbformat_minor": 5
}
